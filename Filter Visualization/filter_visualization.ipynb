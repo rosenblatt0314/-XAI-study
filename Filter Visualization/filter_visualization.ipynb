{
 "cells": [
  {
   "cell_type": "markdown",
   "metadata": {},
   "source": [
    "## MNIST classification for TF2.0\n",
    "### Import Library"
   ]
  },
  {
   "cell_type": "code",
   "execution_count": 6,
   "metadata": {},
   "outputs": [
    {
     "name": "stdout",
     "output_type": "stream",
     "text": [
      "2.5.0\n"
     ]
    }
   ],
   "source": [
    "import tensorflow as tf\n",
    "print(tf.__version__)\n",
    "\n",
    "import numpy as np\n",
    "import matplotlib.pyplot as plt"
   ]
  },
  {
   "cell_type": "markdown",
   "metadata": {},
   "source": [
    "### Build Model"
   ]
  },
  {
   "cell_type": "code",
   "execution_count": 103,
   "metadata": {},
   "outputs": [],
   "source": [
    "### Dataset Load\n",
    "mnist = tf.keras.datasets.mnist\n",
    "\n",
    "(x_train, y_train), (x_test, y_test) = mnist.load_data()\n",
    "\n",
    "x_train = x_train.reshape((60000, 28, 28, 1))\n",
    "x_test = x_test.reshape((10000, 28, 28, 1))\n",
    "\n",
    "x_train, x_test = x_train / 255.0, x_test / 255.0\n",
    "\n",
    "### 층을 차례대로 쌓아 tf.keras.Sequential 모델을 만든다.\n",
    "model = tf.keras.models.Sequential([\n",
    "    tf.keras.layers.Conv2D(filters=5, kernel_size=(3, 3), activation='relu', input_shape=(28, 28, 1), name='hidden_1'),\n",
    "    tf.keras.layers.MaxPool2D(pool_size=(2, 2), name='pool_1'),\n",
    "    tf.keras.layers.Conv2D(filters=5, kernel_size=(3, 3), activation='relu', name='hidden_2'),\n",
    "    tf.keras.layers.MaxPool2D(pool_size=(2, 2), name='pool_2'),\n",
    "    tf.keras.layers.Conv2D(filters=20, kernel_size=(3, 3), activation='relu', name='hidden_3'),\n",
    "    tf.keras.layers.Dropout(0.2),\n",
    "    tf.keras.layers.Flatten(),\n",
    "    tf.keras.layers.Dense(64, activation='relu'),\n",
    "    tf.keras.layers.Dense(10, activation='softmax')\n",
    "])\n",
    "\n",
    "model.compile(optimizer='adam',\n",
    "              loss='sparse_categorical_crossentropy',\n",
    "              metrics=['accuracy'])"
   ]
  },
  {
   "cell_type": "markdown",
   "metadata": {},
   "source": [
    "### Train and Evaluate Model"
   ]
  },
  {
   "cell_type": "code",
   "execution_count": 104,
   "metadata": {},
   "outputs": [
    {
     "name": "stdout",
     "output_type": "stream",
     "text": [
      "Epoch 1/5\n",
      "1875/1875 [==============================] - 14s 7ms/step - loss: 0.3451 - accuracy: 0.8929\n",
      "Epoch 2/5\n",
      "1875/1875 [==============================] - 15s 8ms/step - loss: 0.1418 - accuracy: 0.9554\n",
      "Epoch 3/5\n",
      "1875/1875 [==============================] - 14s 8ms/step - loss: 0.1112 - accuracy: 0.9651\n",
      "Epoch 4/5\n",
      "1875/1875 [==============================] - 14s 8ms/step - loss: 0.0942 - accuracy: 0.9697\n",
      "Epoch 5/5\n",
      "1875/1875 [==============================] - 14s 8ms/step - loss: 0.0812 - accuracy: 0.9740\n",
      "313/313 - 1s - loss: 0.0534 - accuracy: 0.9835\n"
     ]
    },
    {
     "data": {
      "text/plain": [
       "[0.05339290201663971, 0.9835000038146973]"
      ]
     },
     "execution_count": 104,
     "metadata": {},
     "output_type": "execute_result"
    }
   ],
   "source": [
    "model.fit(x_train, y_train, epochs=5)\n",
    "model.evaluate(x_test, y_test, verbose=2)"
   ]
  },
  {
   "cell_type": "markdown",
   "metadata": {},
   "source": [
    "## 합성곱 신경망 시각화 하기\n",
    "### 테스트 데이터에 대해 데이터 0번을 시각화 하는 코드"
   ]
  },
  {
   "cell_type": "code",
   "execution_count": 105,
   "metadata": {},
   "outputs": [
    {
     "name": "stdout",
     "output_type": "stream",
     "text": [
      "(28, 28, 1)\n",
      "7\n"
     ]
    },
    {
     "data": {
      "text/plain": [
       "<matplotlib.image.AxesImage at 0x7faa7a53aba8>"
      ]
     },
     "execution_count": 105,
     "metadata": {},
     "output_type": "execute_result"
    },
    {
     "data": {
      "image/png": "[encoded data removed]",
      "text/plain": [
       "<Figure size 432x288 with 1 Axes>"
      ]
     },
     "metadata": {
      "needs_background": "light"
     },
     "output_type": "display_data"
    }
   ],
   "source": [
    "index = 0\n",
    "\n",
    "imageToUse = x_test[index]\n",
    "imageLabel = y_test[index]\n",
    "\n",
    "print(imageToUse.shape)\n",
    "print(imageLabel)\n",
    "\n",
    "plt.imshow(imageToUse, interpolation='nearest', cmap='gray')"
   ]
  },
  {
   "cell_type": "markdown",
   "metadata": {},
   "source": [
    "### 합성곱 신경망이 0번째 손글씨 이미지를 예측하는 코드"
   ]
  },
  {
   "cell_type": "code",
   "execution_count": 106,
   "metadata": {},
   "outputs": [
    {
     "name": "stdout",
     "output_type": "stream",
     "text": [
      "WARNING:tensorflow:6 out of the last 27 calls to <function Model.make_predict_function.<locals>.predict_function at 0x7faa7a704048> triggered tf.function retracing. Tracing is expensive and the excessive number of tracings could be due to (1) creating @tf.function repeatedly in a loop, (2) passing tensors with different shapes, (3) passing Python objects instead of tensors. For (1), please define your @tf.function outside of the loop. For (2), @tf.function has experimental_relax_shapes=True option that relaxes argument shapes that can avoid unnecessary retracing. For (3), please refer to https://www.tensorflow.org/guide/function#controlling_retracing and https://www.tensorflow.org/api_docs/python/tf/function for  more details.\n",
      "7\n",
      "True\n"
     ]
    }
   ],
   "source": [
    "x_test[index].shape\n",
    "predict = model.predict(imageToUse.reshape(-1, 28, 28, 1))\n",
    "\n",
    "print(predict.argmax())   # 최댓값 인덱스 출력\n",
    "print(predict.argmax() == imageLabel)"
   ]
  },
  {
   "cell_type": "markdown",
   "metadata": {},
   "source": [
    "### 합성곱 신경망이 테스트 데이터 924번을 어떻게 예측하는지 숫자별로 확률을 보여주는 코드"
   ]
  },
  {
   "cell_type": "code",
   "execution_count": 107,
   "metadata": {},
   "outputs": [
    {
     "name": "stdout",
     "output_type": "stream",
     "text": [
      "(28, 28, 1)\n",
      "2\n",
      "[0] 0.063%\n",
      "[1] 0.011%\n",
      "[2] 61.349%\n",
      "[3] 1.346%\n",
      "[4] 0.000%\n",
      "[5] 0.000%\n",
      "[6] 0.000%\n",
      "[7] 36.343%\n",
      "[8] 0.847%\n",
      "[9] 0.040%\n"
     ]
    },
    {
     "data": {
      "image/png": "[encoded data removed]",
      "text/plain": [
       "<Figure size 432x288 with 1 Axes>"
      ]
     },
     "metadata": {
      "needs_background": "light"
     },
     "output_type": "display_data"
    }
   ],
   "source": [
    "index = 924\n",
    "\n",
    "imageToUse = x_test[index]\n",
    "imageLabel = y_test[index]\n",
    "\n",
    "print(imageToUse.shape)\n",
    "print(imageLabel)\n",
    "\n",
    "plt.imshow(imageToUse, interpolation='nearest', cmap='gray')\n",
    "\n",
    "mat = model.predict(imageToUse.reshape(-1, 28, 28, 1))\n",
    "\n",
    "for idx, item in enumerate(mat[0]):\n",
    "    print('[{}] {:.3%}'.format(idx, item))"
   ]
  },
  {
   "cell_type": "markdown",
   "metadata": {},
   "source": [
    "### 은닉층 연산 결과를 시각화 하는 코드"
   ]
  },
  {
   "cell_type": "code",
   "execution_count": 108,
   "metadata": {},
   "outputs": [
    {
     "data": {
      "image/png": "[encoded data removed]",
      "text/plain": [
       "<Figure size 1440x1440 with 5 Axes>"
      ]
     },
     "metadata": {
      "needs_background": "light"
     },
     "output_type": "display_data"
    }
   ],
   "source": [
    "import math\n",
    "\n",
    "### 은닉층 연산 결과를 시각화 하는 코드\n",
    "def visualize_layers(layer_name):\n",
    "    layer_output = model.get_layer(layer_name).output\n",
    "    intermediate_model = tf.keras.models.Model(inputs=model.input, outputs=layer_output)\n",
    "    intermediate_prediction = intermediate_model.predict(imageToUse.reshape(-1, 28, 28, 1))\n",
    "    \n",
    "    filters = filters = layer_output.shape[3]\n",
    "    plt.figure(1, figsize=(20, 20))\n",
    "    n_columns = 5\n",
    "    n_rows = math.ceil(filters / n_columns) + 1\n",
    "    \n",
    "    for i in range(filters):\n",
    "        plt.subplot(n_rows, n_columns, i+1)\n",
    "        plt.title('Filter ' + str(i))\n",
    "        plt.imshow(intermediate_prediction[0, :, :, i], interpolation='nearest', cmap='gray')\n",
    "    \n",
    "visualize_layers('hidden_1')\n"
   ]
  },
  {
   "cell_type": "code",
   "execution_count": 110,
   "metadata": {},
   "outputs": [
    {
     "data": {
      "image/png": "[encoded data removed]",
      "text/plain": [
       "<Figure size 1440x1440 with 5 Axes>"
      ]
     },
     "metadata": {
      "needs_background": "light"
     },
     "output_type": "display_data"
    }
   ],
   "source": [
    "visualize_layers('hidden_2')"
   ]
  },
  {
   "cell_type": "code",
   "execution_count": null,
   "metadata": {},
   "outputs": [],
   "source": [
    "visualize_layers('hidden_3')"
   ]
  }
 ],
 "metadata": {
  "interpreter": {
   "hash": "31f2aee4e71d21fbe5cf8b01ff0e069b9275f58929596ceb00d14d90e3e16cd6"
  },
  "kernelspec": {
   "display_name": "Python 3.6.9 64-bit",
   "language": "python",
   "name": "python3"
  },
  "language_info": {
   "codemirror_mode": {
    "name": "ipython",
    "version": 3
   },
   "file_extension": ".py",
   "mimetype": "text/x-python",
   "name": "python",
   "nbconvert_exporter": "python",
   "pygments_lexer": "ipython3",
   "version": "3.6.9"
  },
  "orig_nbformat": 4
 },
 "nbformat": 4,
 "nbformat_minor": 2
}
